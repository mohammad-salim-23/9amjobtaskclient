{
  "nbformat": 4,
  "nbformat_minor": 0,
  "metadata": {
    "colab": {
      "provenance": [],
      "authorship_tag": "ABX9TyOHfaBRPQEIsMVRC5YlrSuc",
      "include_colab_link": true
    },
    "kernelspec": {
      "name": "python3",
      "display_name": "Python 3"
    },
    "language_info": {
      "name": "python"
    }
  },
  "cells": [
    {
      "cell_type": "markdown",
      "metadata": {
        "id": "view-in-github",
        "colab_type": "text"
      },
      "source": [
        "<a href=\"https://colab.research.google.com/github/mohammad-salim-23/9amjobtaskclient/blob/main/numpy.ipynb\" target=\"_parent\"><img src=\"https://colab.research.google.com/assets/colab-badge.svg\" alt=\"Open In Colab\"/></a>"
      ]
    },
    {
      "cell_type": "code",
      "execution_count": null,
      "metadata": {
        "colab": {
          "base_uri": "https://localhost:8080/"
        },
        "id": "e4M_0Iax047w",
        "outputId": "6acf1ffa-be9c-4bfb-94a1-5978d92a0098"
      },
      "outputs": [
        {
          "output_type": "stream",
          "name": "stdout",
          "text": [
            "[1, 2, 3, 1, 2, 3, 1, 2, 3, 1, 2, 3, 1, 2, 3]\n",
            "[5, 10, 15]\n"
          ]
        }
      ],
      "source": [
        "arr = [1,2,3]\n",
        "print(arr*5) #5 time arr print korce kictu pottekta element ke 5 diye multiplication korte pare ni\n",
        "arr = [x*5 for x in arr]\n",
        "print(arr)"
      ]
    },
    {
      "cell_type": "code",
      "source": [
        "import numpy as np\n",
        "arr1 = np.array([1,2,3])\n",
        "arr1 = arr1*5\n",
        "print(arr1)\n"
      ],
      "metadata": {
        "colab": {
          "base_uri": "https://localhost:8080/"
        },
        "id": "RgPx1A5n38C2",
        "outputId": "cb774c48-2add-4df9-b51d-307edb73ae05"
      },
      "execution_count": null,
      "outputs": [
        {
          "output_type": "stream",
          "name": "stdout",
          "text": [
            "[ 5 10 15]\n"
          ]
        }
      ]
    },
    {
      "cell_type": "markdown",
      "source": [
        "# **Ndarray**"
      ],
      "metadata": {
        "id": "faEnmufu4ERT"
      }
    },
    {
      "cell_type": "code",
      "source": [
        "import numpy as np\n",
        "# 1d array\n",
        "arr1 = np.array([1,2,3,4,5])\n",
        "\n",
        "#2d array\n",
        "arr2 = np.array([[1,2,3],\n",
        "                [4,5,6]])\n",
        "#3d array\n",
        "arr3 = np.array([\n",
        "    #1st floor\n",
        "    [[1,2,3],\n",
        "     [4,5,6]],\n",
        "\n",
        "    #2nd floor\n",
        "    [[1,2,3],\n",
        "     [4,5,6]],\n",
        "\n",
        "    #3rd floor\n",
        "    [[1,2,3],\n",
        "     [4,5,6]]\n",
        "])\n"
      ],
      "metadata": {
        "id": "gTSo0vli4Iju"
      },
      "execution_count": null,
      "outputs": []
    },
    {
      "cell_type": "markdown",
      "source": [
        "# **Array attributes**"
      ],
      "metadata": {
        "id": "oNiKvnjh42rd"
      }
    },
    {
      "cell_type": "code",
      "source": [
        "#dimension\n",
        "print(arr1.ndim)\n",
        "print(arr2.ndim)\n",
        "print(arr3.ndim)\n",
        "\n",
        "#shape\n",
        "print(arr1.shape)\n",
        "print(arr2.shape)\n",
        "print(arr3.shape)\n",
        "\n",
        "#data type\n",
        "print(arr1.dtype)\n",
        "print(arr2.dtype)\n",
        "print(arr3.dtype)\n",
        "\n",
        "#size\n",
        "print(arr1.size)\n",
        "print(arr2.size)\n",
        "print(arr3.size)"
      ],
      "metadata": {
        "colab": {
          "base_uri": "https://localhost:8080/"
        },
        "id": "JJtWr_sD4-h6",
        "outputId": "c260c68e-7f5a-4d2b-8c21-dda51402d773"
      },
      "execution_count": null,
      "outputs": [
        {
          "output_type": "stream",
          "name": "stdout",
          "text": [
            "1\n",
            "2\n",
            "3\n",
            "(5,)\n",
            "(2, 3)\n",
            "(3, 2, 3)\n",
            "int64\n",
            "int64\n",
            "int64\n",
            "5\n",
            "6\n",
            "18\n"
          ]
        }
      ]
    },
    {
      "cell_type": "markdown",
      "source": [
        "###**ndarray data type**"
      ],
      "metadata": {
        "id": "UboKtThK6B2P"
      }
    },
    {
      "cell_type": "code",
      "source": [
        "arr = np.array([1,2,3])\n",
        "\n",
        "print(arr.dtype)\n",
        "\n",
        "arr = np.array([1,2,3,3.5])\n",
        "print(arr.dtype)"
      ],
      "metadata": {
        "colab": {
          "base_uri": "https://localhost:8080/"
        },
        "id": "OgP51llb6GJM",
        "outputId": "fc2bbcb6-0ab8-413b-e13a-33a48c85ebc1"
      },
      "execution_count": null,
      "outputs": [
        {
          "output_type": "stream",
          "name": "stdout",
          "text": [
            "int64\n",
            "float64\n"
          ]
        }
      ]
    },
    {
      "cell_type": "code",
      "source": [
        "arr = np.array([1,2,3.2])\n",
        "#upcasting\n",
        "print(arr.dtype)\n",
        "\n",
        "#upcasted to string\n",
        "arr = np.array([1,2,3.2,'H'])\n",
        "print(arr.dtype)\n"
      ],
      "metadata": {
        "colab": {
          "base_uri": "https://localhost:8080/"
        },
        "id": "sI9ooRnB6Ro4",
        "outputId": "762919b2-a90a-443d-8d94-9584bac7d259"
      },
      "execution_count": null,
      "outputs": [
        {
          "output_type": "stream",
          "name": "stdout",
          "text": [
            "float64\n",
            "<U32\n"
          ]
        }
      ]
    },
    {
      "cell_type": "markdown",
      "source": [
        "###**selecting a data type for an array**\n"
      ],
      "metadata": {
        "id": "wb8BHYsz6lr5"
      }
    },
    {
      "cell_type": "code",
      "source": [
        "#arr = np.array([1,2,300],dtype = np.int8) #overflow\n",
        "arr = np.array([1,2,300],dtype = np.int16)\n",
        "print(arr.dtype)\n",
        "print(arr)\n",
        "\n",
        "arr = arr.astype(np.int32)\n",
        "print(arr.dtype)\n",
        "\n",
        "#error\n",
        "#arr = np.array([1,2,3.2,'hellop'],dtype=np.float64)\n",
        "print(arr.dtype)\n"
      ],
      "metadata": {
        "colab": {
          "base_uri": "https://localhost:8080/"
        },
        "id": "HSpsuk-o6qk5",
        "outputId": "cebf4953-df4c-4579-f324-a400b84dfd10"
      },
      "execution_count": null,
      "outputs": [
        {
          "output_type": "stream",
          "name": "stdout",
          "text": [
            "int16\n",
            "[  1   2 300]\n",
            "int32\n",
            "int32\n"
          ]
        }
      ]
    },
    {
      "cell_type": "markdown",
      "source": [
        "###**ndarray creation from existing data**"
      ],
      "metadata": {
        "id": "fr_2af1X7V5v"
      }
    },
    {
      "cell_type": "code",
      "source": [
        "#list\n",
        "lst = [10,20,30,40,40.5]\n",
        "\n",
        "arr = np.array(lst,dtype = np.int32)\n",
        "print(arr)\n",
        "print(type(arr))\n",
        "print(arr.dtype)\n",
        "\n",
        "mixed_lst = [10,True,'Hello']\n",
        "arr = np.array(mixed_lst)\n",
        "print(arr)\n",
        "print(type(arr))\n",
        "print(arr.dtype)\n",
        "\n",
        "matrix = [[1,2,3],\n",
        "          [4,5,6]]\n",
        "\n",
        "arr = np.array(matrix)\n",
        "print(arr)\n",
        "print(type(arr))\n",
        "print(arr.dtype)\n",
        "print(arr.shape)\n",
        "print(arr.ndim)\n",
        "print(arr.size)"
      ],
      "metadata": {
        "colab": {
          "base_uri": "https://localhost:8080/"
        },
        "id": "TH1h6J1e7bIo",
        "outputId": "c7888a95-c489-47f3-9cb0-df3580aa1ded"
      },
      "execution_count": null,
      "outputs": [
        {
          "output_type": "stream",
          "name": "stdout",
          "text": [
            "[10 20 30 40 40]\n",
            "<class 'numpy.ndarray'>\n",
            "int32\n",
            "['10' 'True' 'Hello']\n",
            "<class 'numpy.ndarray'>\n",
            "<U21\n",
            "[[1 2 3]\n",
            " [4 5 6]]\n",
            "<class 'numpy.ndarray'>\n",
            "int64\n",
            "(2, 3)\n",
            "2\n",
            "6\n"
          ]
        }
      ]
    },
    {
      "cell_type": "code",
      "source": [
        "#tuple\n",
        "\n",
        "tpl = (10,20,30)\n",
        "arr = np.array(tpl,dtype = np.int32)\n",
        "print(arr.dtype)\n",
        "arr = arr.astype(np.int16)\n",
        "print(arr)\n",
        "print(type(arr))\n",
        "print(arr.dtype)\n",
        "print(arr.shape)\n",
        "print(arr.ndim)"
      ],
      "metadata": {
        "colab": {
          "base_uri": "https://localhost:8080/"
        },
        "id": "VwjiUnYj9Yds",
        "outputId": "cf324962-071a-482c-dcb8-509d675a5780"
      },
      "execution_count": null,
      "outputs": [
        {
          "output_type": "stream",
          "name": "stdout",
          "text": [
            "int32\n",
            "[10 20 30]\n",
            "<class 'numpy.ndarray'>\n",
            "int16\n",
            "(3,)\n",
            "1\n"
          ]
        }
      ]
    },
    {
      "cell_type": "code",
      "source": [
        "#set\n",
        "st = {1,2,3}\n",
        "arr = np.array(st);\n",
        "print(type(arr))\n",
        "print(arr.dtype) #object\n",
        "print(arr) #set ei roice\n",
        "arr = np.array(list(st))\n",
        "print(type(arr))\n",
        "print(arr.dtype)\n",
        "print(arr)\n",
        "arr = arr.astype(np.int16)\n",
        "print(arr.dtype)\n",
        "print(arr.shape)\n",
        "print(arr.ndim)\n"
      ],
      "metadata": {
        "colab": {
          "base_uri": "https://localhost:8080/"
        },
        "id": "F8RbU9CX9x_5",
        "outputId": "5e1740f3-0ea1-4cfe-c57d-89a3e1531fa7"
      },
      "execution_count": null,
      "outputs": [
        {
          "output_type": "stream",
          "name": "stdout",
          "text": [
            "<class 'numpy.ndarray'>\n",
            "object\n",
            "{1, 2, 3}\n",
            "<class 'numpy.ndarray'>\n",
            "int64\n",
            "[1 2 3]\n",
            "int16\n",
            "(3,)\n",
            "1\n"
          ]
        }
      ]
    },
    {
      "cell_type": "code",
      "source": [
        "#dictionary\n",
        "dc = {'a':10,'b':20,'c':30}\n",
        "keys = dc.keys()\n",
        "values = dc.values()\n",
        "\n",
        "items = dc.items()"
      ],
      "metadata": {
        "id": "DjRFT21o-fef"
      },
      "execution_count": null,
      "outputs": []
    },
    {
      "cell_type": "code",
      "source": [
        "#keys to ndarray\n",
        "arr = np.array(list(keys))\n",
        "print(arr)\n",
        "print(type(arr))\n",
        "print(arr.dtype)\n",
        "print(arr.shape)\n",
        "print(arr.ndim)\n",
        "print(arr.size)"
      ],
      "metadata": {
        "id": "cX-o5MHz-zHa",
        "colab": {
          "base_uri": "https://localhost:8080/"
        },
        "outputId": "9edf0138-1aab-4e3a-b861-0c31f79bb59d"
      },
      "execution_count": null,
      "outputs": [
        {
          "output_type": "stream",
          "name": "stdout",
          "text": [
            "['a' 'b' 'c']\n",
            "<class 'numpy.ndarray'>\n",
            "<U1\n",
            "(3,)\n",
            "1\n",
            "3\n"
          ]
        }
      ]
    },
    {
      "cell_type": "code",
      "source": [
        "#items to ndarray\n",
        "arr = np.array(list(items))\n",
        "print(arr)\n",
        "print(type(arr))\n",
        "print(arr.dtype)\n",
        "print(arr.shape)\n",
        "print(arr.ndim)\n",
        "print(arr.size)"
      ],
      "metadata": {
        "colab": {
          "base_uri": "https://localhost:8080/"
        },
        "id": "7UtxeOAq_LIw",
        "outputId": "b9ea035b-f942-4214-bb1c-d319e5739c07"
      },
      "execution_count": null,
      "outputs": [
        {
          "output_type": "stream",
          "name": "stdout",
          "text": [
            "[['a' '10']\n",
            " ['b' '20']\n",
            " ['c' '30']]\n",
            "<class 'numpy.ndarray'>\n",
            "<U21\n",
            "(3, 2)\n",
            "2\n",
            "6\n"
          ]
        }
      ]
    },
    {
      "cell_type": "markdown",
      "source": [
        "###**Creating ndarray from scratch**"
      ],
      "metadata": {
        "id": "BU-riAoI_cxH"
      }
    },
    {
      "cell_type": "code",
      "source": [
        "#np.zeroes\n",
        "arr = np.zeros((2,3),dtype = np.int8)\n",
        "print(arr)\n",
        "print(type(arr))\n",
        "print(arr.dtype)\n",
        "print(arr.shape)\n",
        "print(arr.ndim)\n",
        "print(arr.size)\n",
        "\n",
        "arr = np.zeros_like(arr3)\n",
        "print(arr)\n",
        "print(arr.shape)"
      ],
      "metadata": {
        "colab": {
          "base_uri": "https://localhost:8080/"
        },
        "id": "dHIht5Z-_h02",
        "outputId": "53cfe6bc-1711-452e-f310-4ace1e1ff844"
      },
      "execution_count": null,
      "outputs": [
        {
          "output_type": "stream",
          "name": "stdout",
          "text": [
            "[[0 0 0]\n",
            " [0 0 0]]\n",
            "<class 'numpy.ndarray'>\n",
            "int8\n",
            "(2, 3)\n",
            "2\n",
            "6\n",
            "[[[0 0 0]\n",
            "  [0 0 0]]\n",
            "\n",
            " [[0 0 0]\n",
            "  [0 0 0]]\n",
            "\n",
            " [[0 0 0]\n",
            "  [0 0 0]]]\n",
            "(3, 2, 3)\n"
          ]
        }
      ]
    },
    {
      "cell_type": "code",
      "source": [
        "#np.ones\n",
        "arr = np.ones((3,4,3),dtype=np.int8)\n",
        "print(arr)\n",
        "print(type(arr))\n",
        "print(arr.dtype)\n",
        "print(arr.shape)\n",
        "print(arr.ndim)\n",
        "print(arr.size)\n",
        "\n",
        "arr = np.ones_like(arr3) ##arr3 shape same\n",
        "print(arr)\n",
        "print(arr.shape)"
      ],
      "metadata": {
        "colab": {
          "base_uri": "https://localhost:8080/"
        },
        "id": "eO0cRQMLAeB3",
        "outputId": "613fae12-4fa3-4ba2-89e1-174f6fe79ce1"
      },
      "execution_count": null,
      "outputs": [
        {
          "output_type": "stream",
          "name": "stdout",
          "text": [
            "[[[1 1 1]\n",
            "  [1 1 1]\n",
            "  [1 1 1]\n",
            "  [1 1 1]]\n",
            "\n",
            " [[1 1 1]\n",
            "  [1 1 1]\n",
            "  [1 1 1]\n",
            "  [1 1 1]]\n",
            "\n",
            " [[1 1 1]\n",
            "  [1 1 1]\n",
            "  [1 1 1]\n",
            "  [1 1 1]]]\n",
            "<class 'numpy.ndarray'>\n",
            "int8\n",
            "(3, 4, 3)\n",
            "3\n",
            "36\n",
            "[[[1 1 1]\n",
            "  [1 1 1]]\n",
            "\n",
            " [[1 1 1]\n",
            "  [1 1 1]]\n",
            "\n",
            " [[1 1 1]\n",
            "  [1 1 1]]]\n",
            "(3, 2, 3)\n"
          ]
        }
      ]
    },
    {
      "cell_type": "code",
      "source": [
        "#np.empty\n",
        "arr = np.empty_like(arr3) ##arr3 shape same\n",
        "print(arr)\n",
        "print(type(arr))\n",
        "print(arr.dtype)\n",
        "print(arr.ndim)\n",
        "print(arr.shape)\n",
        "print(arr.size)\n",
        "\n",
        "arr = np.empty_like(arr3)\n",
        "print(arr)\n",
        "print(arr.shape)"
      ],
      "metadata": {
        "colab": {
          "base_uri": "https://localhost:8080/"
        },
        "id": "L2bHPqaqAwVb",
        "outputId": "7404708e-0650-4523-aec2-ea659ff924f1"
      },
      "execution_count": null,
      "outputs": [
        {
          "output_type": "stream",
          "name": "stdout",
          "text": [
            "[[[      736144144               0 134609944219632]\n",
            "  [134609974045328        10858752 134609944219632]]\n",
            "\n",
            " [[134609537880048              97 134609981426912]\n",
            "  [134609981426912 134609537877792        11711008]]\n",
            "\n",
            " [[       11664528        11711008 134609537877648]\n",
            "  [134609929714400        11664576 134609929714400]]]\n",
            "<class 'numpy.ndarray'>\n",
            "int64\n",
            "3\n",
            "(3, 2, 3)\n",
            "18\n",
            "[[[1 1 1]\n",
            "  [1 1 1]]\n",
            "\n",
            " [[1 1 1]\n",
            "  [1 1 1]]\n",
            "\n",
            " [[1 1 1]\n",
            "  [1 1 1]]]\n",
            "(3, 2, 3)\n"
          ]
        }
      ]
    },
    {
      "cell_type": "code",
      "source": [
        "#np.full\n",
        "arr = np.full((4,3),np.inf)\n",
        "print(arr)\n",
        "print(type(arr))\n",
        "print(arr.dtype)\n",
        "print(arr.shape)\n",
        "print(arr.ndim)\n",
        "print(arr.size)\n",
        "\n",
        "arr = np.full_like(arr3,np.inf,dtype = np.float64)\n",
        "\n",
        "print(arr)\n",
        "print(arr.shape)\n",
        "print(arr.dtype)"
      ],
      "metadata": {
        "colab": {
          "base_uri": "https://localhost:8080/"
        },
        "id": "16WfRf8VCZLN",
        "outputId": "9b67fc98-b569-420c-b85c-d3208d99a8dc"
      },
      "execution_count": null,
      "outputs": [
        {
          "output_type": "stream",
          "name": "stdout",
          "text": [
            "[[inf inf inf]\n",
            " [inf inf inf]\n",
            " [inf inf inf]\n",
            " [inf inf inf]]\n",
            "<class 'numpy.ndarray'>\n",
            "float64\n",
            "(4, 3)\n",
            "2\n",
            "12\n",
            "[[[inf inf inf]\n",
            "  [inf inf inf]]\n",
            "\n",
            " [[inf inf inf]\n",
            "  [inf inf inf]]\n",
            "\n",
            " [[inf inf inf]\n",
            "  [inf inf inf]]]\n",
            "(3, 2, 3)\n",
            "float64\n"
          ]
        }
      ]
    },
    {
      "cell_type": "markdown",
      "source": [
        "###**array creation with random values**"
      ],
      "metadata": {
        "id": "rjJD2w-s4aKE"
      }
    },
    {
      "cell_type": "code",
      "source": [
        "#np.random.rand(shape)\n",
        "arr = np.random.rand(2,3) #0->1\n",
        "print(arr)\n",
        "print(type(arr))\n",
        "print(arr.dtype)\n",
        "print(arr.shape)\n",
        "print(arr.ndim)\n",
        "print(arr.size)"
      ],
      "metadata": {
        "colab": {
          "base_uri": "https://localhost:8080/"
        },
        "id": "wWrGC7n440S0",
        "outputId": "af56b650-9a4c-4df4-fb73-559cdccab36e"
      },
      "execution_count": null,
      "outputs": [
        {
          "output_type": "stream",
          "name": "stdout",
          "text": [
            "[[0.32510779 0.40160961 0.04158014]\n",
            " [0.28560311 0.07404961 0.1280905 ]]\n",
            "<class 'numpy.ndarray'>\n",
            "float64\n",
            "(2, 3)\n",
            "2\n",
            "6\n"
          ]
        }
      ]
    },
    {
      "cell_type": "code",
      "source": [
        "#np.random.randint(start,end,shape)\n",
        "arr = np.random.randint(1,10,(2,3))\n",
        "print(arr)\n",
        "print(type(arr))\n",
        "print(arr.dtype)\n",
        "print(arr.shape)\n",
        "print(arr.ndim)\n",
        "print(arr.size)"
      ],
      "metadata": {
        "colab": {
          "base_uri": "https://localhost:8080/"
        },
        "id": "9wv8IuB85rQB",
        "outputId": "61da83a5-80f7-4875-e8e4-00efb3f6689c"
      },
      "execution_count": null,
      "outputs": [
        {
          "output_type": "stream",
          "name": "stdout",
          "text": [
            "[[1 8 7]\n",
            " [3 4 4]]\n",
            "<class 'numpy.ndarray'>\n",
            "int64\n",
            "(2, 3)\n",
            "2\n",
            "6\n"
          ]
        }
      ]
    },
    {
      "cell_type": "code",
      "source": [
        "#np.random.uniform(start,end,shape)\n",
        "arr = np.random.uniform(50,100,(3,3,4))\n",
        "print(arr)\n",
        "print(type(arr))\n",
        "print(arr.dtype)\n",
        "print(arr.shape)\n",
        "print(arr.ndim)\n",
        "print(arr.size)\n"
      ],
      "metadata": {
        "colab": {
          "base_uri": "https://localhost:8080/"
        },
        "id": "zuAh6Ndf6DZB",
        "outputId": "0fb1ad24-719b-4b46-c0cb-a8a65418736f"
      },
      "execution_count": null,
      "outputs": [
        {
          "output_type": "stream",
          "name": "stdout",
          "text": [
            "[[[90.33525379 93.62434171 68.8646984  51.94575596]\n",
            "  [84.65172603 70.60547145 65.72449745 65.39058887]\n",
            "  [99.05412294 60.32679768 81.45950662 74.57357087]]\n",
            "\n",
            " [[62.87980288 79.5849852  97.04022059 74.67735907]\n",
            "  [52.1793599  75.88912802 59.17325205 67.56532905]\n",
            "  [50.73162969 76.7919378  52.66164547 93.39505487]]\n",
            "\n",
            " [[82.35223331 98.815864   56.85081932 95.89341851]\n",
            "  [72.29980614 78.67033023 94.18036278 75.7623331 ]\n",
            "  [60.01656302 88.36501729 61.40220495 54.17279405]]]\n",
            "<class 'numpy.ndarray'>\n",
            "float64\n",
            "(3, 3, 4)\n",
            "3\n",
            "36\n"
          ]
        }
      ]
    },
    {
      "cell_type": "markdown",
      "source": [
        "###**array creation with range function**"
      ],
      "metadata": {
        "id": "Hzjxpy5F6VTc"
      }
    },
    {
      "cell_type": "code",
      "source": [
        "# np.arange(first,end(not included),step) -> similar to range function\n",
        "arr = np.arange(1,10,1)\n",
        "mat = arr.reshape(3,3)\n",
        "print(arr)\n",
        "print(mat)\n",
        "print(type(arr))\n",
        "\n",
        "print(arr.dtype)\n",
        "print(arr.shape)\n",
        "print(arr.ndim)\n",
        "print(arr.size)"
      ],
      "metadata": {
        "colab": {
          "base_uri": "https://localhost:8080/"
        },
        "id": "WEeiX7ak6cIU",
        "outputId": "49d27fc7-29e0-4cd4-96b8-42ab7ed6d131"
      },
      "execution_count": null,
      "outputs": [
        {
          "output_type": "stream",
          "name": "stdout",
          "text": [
            "[1 2 3 4 5 6 7 8 9]\n",
            "[[1 2 3]\n",
            " [4 5 6]\n",
            " [7 8 9]]\n",
            "<class 'numpy.ndarray'>\n",
            "int64\n",
            "(9,)\n",
            "1\n",
            "9\n"
          ]
        }
      ]
    },
    {
      "cell_type": "code",
      "source": [
        "# np.linspace(0,4,6)\n",
        "arr = np.linspace(0,8,10)\n",
        "print(arr)\n",
        "print(type(arr))\n",
        "print(arr.dtype)\n",
        "print(arr.shape)\n",
        "print(arr.ndim)\n",
        "print(arr.size)"
      ],
      "metadata": {
        "colab": {
          "base_uri": "https://localhost:8080/"
        },
        "id": "JwM9kTUr61ky",
        "outputId": "c80619a0-2c43-4d37-c4be-c1cb034fbd9f"
      },
      "execution_count": null,
      "outputs": [
        {
          "output_type": "stream",
          "name": "stdout",
          "text": [
            "[0.         0.88888889 1.77777778 2.66666667 3.55555556 4.44444444\n",
            " 5.33333333 6.22222222 7.11111111 8.        ]\n",
            "<class 'numpy.ndarray'>\n",
            "float64\n",
            "(10,)\n",
            "1\n",
            "10\n"
          ]
        }
      ]
    },
    {
      "cell_type": "code",
      "source": [
        "#np.logspace(start,end(included),koita)\n",
        "arr = np.logspace(0,10,6) #10^0 then 1\n",
        "print(arr)\n",
        "arr = np.logspace(0,10,6,base=2) #2^0 ..\n",
        "print(arr)"
      ],
      "metadata": {
        "colab": {
          "base_uri": "https://localhost:8080/"
        },
        "id": "trv5aVLi7GWi",
        "outputId": "d0697ba9-f0aa-407c-c36d-c73fe80cc31b"
      },
      "execution_count": null,
      "outputs": [
        {
          "output_type": "stream",
          "name": "stdout",
          "text": [
            "[1.e+00 1.e+02 1.e+04 1.e+06 1.e+08 1.e+10]\n",
            "[1.000e+00 4.000e+00 1.600e+01 6.400e+01 2.560e+02 1.024e+03]\n"
          ]
        }
      ]
    },
    {
      "cell_type": "markdown",
      "source": [
        "##**creating matrix and linear lagebra**"
      ],
      "metadata": {
        "id": "Az2qw7uvLqYG"
      }
    },
    {
      "cell_type": "code",
      "source": [
        "diagonal_matrix = np.diag([1,2,3,4])\n",
        "print(diagonal_matrix)\n",
        "print(diagonal_matrix.shape)"
      ],
      "metadata": {
        "colab": {
          "base_uri": "https://localhost:8080/"
        },
        "id": "jH-EkjoBLujh",
        "outputId": "4752a8be-3504-4d95-f469-b0a2d57e81f3"
      },
      "execution_count": null,
      "outputs": [
        {
          "output_type": "stream",
          "name": "stdout",
          "text": [
            "[[1 0 0 0]\n",
            " [0 2 0 0]\n",
            " [0 0 3 0]\n",
            " [0 0 0 4]]\n",
            "(4, 4)\n"
          ]
        }
      ]
    },
    {
      "cell_type": "code",
      "source": [
        "#identity matrix\n",
        "identity_mat = np.eye(4)\n",
        "print(identity_mat)\n",
        "print(identity_mat.shape)\n",
        "\n",
        "#np.eye(row,column,k)\n",
        "\n",
        "mat = np.eye(3,4)\n",
        "print(mat)\n",
        "\n",
        "mat = np.eye(3,4,-1)\n",
        "print(mat)"
      ],
      "metadata": {
        "colab": {
          "base_uri": "https://localhost:8080/"
        },
        "id": "HZ0Ll6MNMBho",
        "outputId": "e0474212-920f-4721-98cb-31248d8e7605"
      },
      "execution_count": null,
      "outputs": [
        {
          "output_type": "stream",
          "name": "stdout",
          "text": [
            "[[1. 0. 0. 0.]\n",
            " [0. 1. 0. 0.]\n",
            " [0. 0. 1. 0.]\n",
            " [0. 0. 0. 1.]]\n",
            "(4, 4)\n",
            "[[1. 0. 0. 0.]\n",
            " [0. 1. 0. 0.]\n",
            " [0. 0. 1. 0.]]\n",
            "[[0. 0. 0. 0.]\n",
            " [1. 0. 0. 0.]\n",
            " [0. 1. 0. 0.]]\n"
          ]
        }
      ]
    },
    {
      "cell_type": "markdown",
      "source": [
        "###**indexing and slicing**"
      ],
      "metadata": {
        "id": "gjsaCC_pMh-z"
      }
    },
    {
      "cell_type": "code",
      "source": [
        "#indexing\n",
        "print(arr1)\n",
        "print(arr2)\n",
        "\n",
        "arr1[2] = 100\n",
        "print(arr1)\n",
        "print(arr2)\n",
        "arr2[1][1]=500\n",
        "print(arr2)"
      ],
      "metadata": {
        "colab": {
          "base_uri": "https://localhost:8080/"
        },
        "id": "Wo5z2gN7Ml5Y",
        "outputId": "ef846fb1-10c4-46ad-d48e-4072cb6cab0a"
      },
      "execution_count": null,
      "outputs": [
        {
          "output_type": "stream",
          "name": "stdout",
          "text": [
            "[  1   2 100   4   5]\n",
            "[[  1   2   3]\n",
            " [  4   5 500]]\n",
            "[  1   2 100   4   5]\n",
            "[[  1   2   3]\n",
            " [  4   5 500]]\n",
            "[[  1   2   3]\n",
            " [  4 500 500]]\n"
          ]
        }
      ]
    },
    {
      "cell_type": "code",
      "source": [
        "#slicing\n",
        "#id = arr[start:end:step]\n",
        "arr1_mod = arr1[1:4]\n",
        "print(arr1_mod)\n",
        "arr1_mod[0] = 100\n",
        "print(arr1)\n",
        "arr1_mod_an = arr1[1:4].copy()\n",
        "print(arr1_mod_an)\n",
        "arr1_mod_an[2]=300\n",
        "print(arr1_mod_an)\n",
        "print(arr1)"
      ],
      "metadata": {
        "colab": {
          "base_uri": "https://localhost:8080/"
        },
        "id": "EMJvFKuJNEAJ",
        "outputId": "ac5d22a3-a1e5-4a97-9a01-81a715c864d2"
      },
      "execution_count": null,
      "outputs": [
        {
          "output_type": "stream",
          "name": "stdout",
          "text": [
            "[100 100   4]\n",
            "[  1 100 100   4   5]\n",
            "[100 100   4]\n",
            "[100 100 300]\n",
            "[  1 100 100   4   5]\n"
          ]
        }
      ]
    },
    {
      "cell_type": "code",
      "source": [
        "#2d slicing\n",
        "#arr[row_start:row_end : step, column_start:column_end:step]\n",
        "print(arr2)\n",
        "#getting a row\n",
        "row_0 = arr2[0:1,]\n",
        "print(row_0)\n",
        "row_1 = arr2[1:,]\n",
        "print(row_1)\n",
        "#getting a column\n",
        "col_0 = arr2[::,0:1]\n",
        "print(\"\\n column:\")\n",
        "print(col_0)\n",
        "col_1 = arr2[::,1:2]\n",
        "print(col_1)\n",
        "\n",
        "#getting a portion\n",
        "print(\"\\n portion:\")\n",
        "\n",
        "portion = arr2[::,0:2]\n",
        "print(portion)\n"
      ],
      "metadata": {
        "colab": {
          "base_uri": "https://localhost:8080/"
        },
        "id": "DO350GdON79P",
        "outputId": "7cd46936-08f6-49f6-b49a-cce3f01cd8a8"
      },
      "execution_count": null,
      "outputs": [
        {
          "output_type": "stream",
          "name": "stdout",
          "text": [
            "[[  1   2   3]\n",
            " [  4 500 500]]\n",
            "[[1 2 3]]\n",
            "[[  4 500 500]]\n",
            "\n",
            " column:\n",
            "[[1]\n",
            " [4]]\n",
            "[[  2]\n",
            " [500]]\n",
            "\n",
            " portion:\n",
            "[[  1   2]\n",
            " [  4 500]]\n"
          ]
        }
      ]
    },
    {
      "cell_type": "markdown",
      "source": [
        "#**Advance Indexing**"
      ],
      "metadata": {
        "id": "lL7DAtRWPhqQ"
      }
    },
    {
      "cell_type": "code",
      "source": [
        "lst = np.array([10,20,30,40])\n",
        "values = lst[[0,2,1]]\n",
        "print(values)"
      ],
      "metadata": {
        "colab": {
          "base_uri": "https://localhost:8080/"
        },
        "id": "TDd1M_XDPmAx",
        "outputId": "27a4d9a1-a266-477b-aa7c-f3db6c54ab93"
      },
      "execution_count": null,
      "outputs": [
        {
          "output_type": "stream",
          "name": "stdout",
          "text": [
            "[10 30 20]\n"
          ]
        }
      ]
    },
    {
      "cell_type": "code",
      "source": [
        "print(arr2)\n",
        "print(arr2[[0,1],[1,2]])\n",
        "#boolean kunu kicu diye\n",
        "print(arr2[arr2<200])\n",
        "arr2[arr2>4] = 1000\n",
        "print(arr2)\n"
      ],
      "metadata": {
        "colab": {
          "base_uri": "https://localhost:8080/"
        },
        "id": "_M2EJ6ymP0ny",
        "outputId": "81fba6f0-de1e-4399-ffd7-e7d20d2f43cf"
      },
      "execution_count": null,
      "outputs": [
        {
          "output_type": "stream",
          "name": "stdout",
          "text": [
            "[[   1    2    3]\n",
            " [   4 1000 1000]]\n",
            "[   2 1000]\n",
            "[1 2 3 4]\n",
            "[[   1    2    3]\n",
            " [   4 1000 1000]]\n"
          ]
        }
      ]
    },
    {
      "cell_type": "code",
      "source": [
        "arr = np.array([[10,20,30],[100,200,300]])\n",
        "\n",
        "#iteration\n",
        "print(arr)\n",
        "for i in np.nditer(arr):\n",
        "  print(i)"
      ],
      "metadata": {
        "colab": {
          "base_uri": "https://localhost:8080/"
        },
        "id": "UNBADJaxQTPu",
        "outputId": "39713842-aeb5-40ec-93aa-d02bf4cd59dd"
      },
      "execution_count": null,
      "outputs": [
        {
          "output_type": "stream",
          "name": "stdout",
          "text": [
            "[[ 10  20  30]\n",
            " [100 200 300]]\n",
            "10\n",
            "20\n",
            "30\n",
            "100\n",
            "200\n",
            "300\n"
          ]
        }
      ]
    },
    {
      "cell_type": "markdown",
      "source": [
        "***numpy practice***"
      ],
      "metadata": {
        "id": "cRQCb45MSWDM"
      }
    },
    {
      "cell_type": "code",
      "source": [
        "import numpy as np\n",
        "val = [20,30,40]\n",
        "arr = np.array(val)\n",
        "farArr = np.array(list(map(lambda x:x*1.8+32,arr)))\n",
        "print(farArr)"
      ],
      "metadata": {
        "colab": {
          "base_uri": "https://localhost:8080/",
          "height": 190
        },
        "id": "mFI3TIqyT2qK",
        "outputId": "165b74ae-209a-4acc-f2ab-3c61bcb962e7"
      },
      "execution_count": null,
      "outputs": [
        {
          "output_type": "error",
          "ename": "TypeError",
          "evalue": "'list' object is not callable",
          "traceback": [
            "\u001b[0;31m---------------------------------------------------------------------------\u001b[0m",
            "\u001b[0;31mTypeError\u001b[0m                                 Traceback (most recent call last)",
            "\u001b[0;32m/tmp/ipython-input-3107094285.py\u001b[0m in \u001b[0;36m<cell line: 0>\u001b[0;34m()\u001b[0m\n\u001b[1;32m      2\u001b[0m \u001b[0mval\u001b[0m \u001b[0;34m=\u001b[0m \u001b[0;34m[\u001b[0m\u001b[0;36m20\u001b[0m\u001b[0;34m,\u001b[0m\u001b[0;36m30\u001b[0m\u001b[0;34m,\u001b[0m\u001b[0;36m40\u001b[0m\u001b[0;34m]\u001b[0m\u001b[0;34m\u001b[0m\u001b[0;34m\u001b[0m\u001b[0m\n\u001b[1;32m      3\u001b[0m \u001b[0marr\u001b[0m \u001b[0;34m=\u001b[0m \u001b[0mnp\u001b[0m\u001b[0;34m.\u001b[0m\u001b[0marray\u001b[0m\u001b[0;34m(\u001b[0m\u001b[0mval\u001b[0m\u001b[0;34m)\u001b[0m\u001b[0;34m\u001b[0m\u001b[0;34m\u001b[0m\u001b[0m\n\u001b[0;32m----> 4\u001b[0;31m \u001b[0mfarArr\u001b[0m \u001b[0;34m=\u001b[0m \u001b[0mnp\u001b[0m\u001b[0;34m.\u001b[0m\u001b[0marray\u001b[0m\u001b[0;34m(\u001b[0m\u001b[0mlist\u001b[0m\u001b[0;34m(\u001b[0m\u001b[0mmap\u001b[0m\u001b[0;34m(\u001b[0m\u001b[0;32mlambda\u001b[0m \u001b[0mx\u001b[0m\u001b[0;34m:\u001b[0m\u001b[0mx\u001b[0m\u001b[0;34m*\u001b[0m\u001b[0;36m1.8\u001b[0m\u001b[0;34m+\u001b[0m\u001b[0;36m32\u001b[0m\u001b[0;34m,\u001b[0m\u001b[0marr\u001b[0m\u001b[0;34m)\u001b[0m\u001b[0;34m)\u001b[0m\u001b[0;34m)\u001b[0m\u001b[0;34m\u001b[0m\u001b[0;34m\u001b[0m\u001b[0m\n\u001b[0m\u001b[1;32m      5\u001b[0m \u001b[0mprint\u001b[0m\u001b[0;34m(\u001b[0m\u001b[0mfarArr\u001b[0m\u001b[0;34m)\u001b[0m\u001b[0;34m\u001b[0m\u001b[0;34m\u001b[0m\u001b[0m\n",
            "\u001b[0;31mTypeError\u001b[0m: 'list' object is not callable"
          ]
        }
      ]
    },
    {
      "cell_type": "code",
      "source": [
        "import numpy as np\n",
        "val = [20,30,40]\n",
        "arr = np.array(val)\n",
        "farArr = np.array((map(lambda x:x*1.8+32,arr)))\n",
        "faArr = list(farArr)\n",
        "print(faArr)"
      ],
      "metadata": {
        "colab": {
          "base_uri": "https://localhost:8080/",
          "height": 224
        },
        "id": "DOSwQWARUQsx",
        "outputId": "720f8e11-cea6-4565-9ea9-2aea5ffdeb0a"
      },
      "execution_count": null,
      "outputs": [
        {
          "output_type": "error",
          "ename": "TypeError",
          "evalue": "iteration over a 0-d array",
          "traceback": [
            "\u001b[0;31m---------------------------------------------------------------------------\u001b[0m",
            "\u001b[0;31mTypeError\u001b[0m                                 Traceback (most recent call last)",
            "\u001b[0;32m/tmp/ipython-input-2513585433.py\u001b[0m in \u001b[0;36m<cell line: 0>\u001b[0;34m()\u001b[0m\n\u001b[1;32m      3\u001b[0m \u001b[0marr\u001b[0m \u001b[0;34m=\u001b[0m \u001b[0mnp\u001b[0m\u001b[0;34m.\u001b[0m\u001b[0marray\u001b[0m\u001b[0;34m(\u001b[0m\u001b[0mval\u001b[0m\u001b[0;34m)\u001b[0m\u001b[0;34m\u001b[0m\u001b[0;34m\u001b[0m\u001b[0m\n\u001b[1;32m      4\u001b[0m \u001b[0mfarArr\u001b[0m \u001b[0;34m=\u001b[0m \u001b[0mnp\u001b[0m\u001b[0;34m.\u001b[0m\u001b[0marray\u001b[0m\u001b[0;34m(\u001b[0m\u001b[0;34m(\u001b[0m\u001b[0mmap\u001b[0m\u001b[0;34m(\u001b[0m\u001b[0;32mlambda\u001b[0m \u001b[0mx\u001b[0m\u001b[0;34m:\u001b[0m\u001b[0mx\u001b[0m\u001b[0;34m*\u001b[0m\u001b[0;36m1.8\u001b[0m\u001b[0;34m+\u001b[0m\u001b[0;36m32\u001b[0m\u001b[0;34m,\u001b[0m\u001b[0marr\u001b[0m\u001b[0;34m)\u001b[0m\u001b[0;34m)\u001b[0m\u001b[0;34m)\u001b[0m\u001b[0;34m\u001b[0m\u001b[0;34m\u001b[0m\u001b[0m\n\u001b[0;32m----> 5\u001b[0;31m \u001b[0mfaArr\u001b[0m \u001b[0;34m=\u001b[0m \u001b[0mlist\u001b[0m\u001b[0;34m(\u001b[0m\u001b[0mfarArr\u001b[0m\u001b[0;34m)\u001b[0m\u001b[0;34m\u001b[0m\u001b[0;34m\u001b[0m\u001b[0m\n\u001b[0m\u001b[1;32m      6\u001b[0m \u001b[0mprint\u001b[0m\u001b[0;34m(\u001b[0m\u001b[0mfaArr\u001b[0m\u001b[0;34m)\u001b[0m\u001b[0;34m\u001b[0m\u001b[0;34m\u001b[0m\u001b[0m\n",
            "\u001b[0;31mTypeError\u001b[0m: iteration over a 0-d array"
          ]
        }
      ]
    },
    {
      "cell_type": "code",
      "source": [
        "val = [10,20,30]\n",
        "arr = np.array(val)\n",
        "\n",
        "farArr = arr*1.8+32\n",
        "print(farArr)"
      ],
      "metadata": {
        "colab": {
          "base_uri": "https://localhost:8080/"
        },
        "id": "wv169-ZGVYJ2",
        "outputId": "4dbaf821-479a-4e1d-f724-984410051b6a"
      },
      "execution_count": null,
      "outputs": [
        {
          "output_type": "stream",
          "name": "stdout",
          "text": [
            "[50. 68. 86.]\n"
          ]
        }
      ]
    },
    {
      "cell_type": "code",
      "source": [
        "listSec = [120,130,180,241]\n",
        "arrSec = np.array(listSec,dtype = np.float64)\n",
        "print(arrSec.shape)\n",
        "print(arrSec.size)\n",
        "print(type(arrSec))\n",
        "print(arrSec.dtype)\n",
        "arrMin = arrSec/60\n",
        "print(arrMin)"
      ],
      "metadata": {
        "colab": {
          "base_uri": "https://localhost:8080/"
        },
        "id": "psJvcmCiVrxe",
        "outputId": "e4bdcdd3-9726-4c71-fc41-b126b3834279"
      },
      "execution_count": null,
      "outputs": [
        {
          "output_type": "stream",
          "name": "stdout",
          "text": [
            "(4,)\n",
            "4\n",
            "<class 'numpy.ndarray'>\n",
            "float64\n",
            "[2.         2.16666667 3.         4.01666667]\n"
          ]
        }
      ]
    },
    {
      "cell_type": "code",
      "source": [
        "import numpy as np\n",
        "arr = np.random.randint(1,100,size=(10,5)) #sample-10,feature->5"
      ],
      "metadata": {
        "id": "ypn9W8NQHrwe"
      },
      "execution_count": null,
      "outputs": []
    },
    {
      "cell_type": "code",
      "source": [
        "arr.shape"
      ],
      "metadata": {
        "colab": {
          "base_uri": "https://localhost:8080/"
        },
        "id": "_fG6S4h0R24g",
        "outputId": "ef8095b4-af9d-4d64-801c-befcd52f01af"
      },
      "execution_count": null,
      "outputs": [
        {
          "output_type": "execute_result",
          "data": {
            "text/plain": [
              "(10, 5)"
            ]
          },
          "metadata": {},
          "execution_count": 3
        }
      ]
    },
    {
      "cell_type": "code",
      "source": [
        "b =arr.reshape(5,10)\n",
        "b.shape\n",
        "b.ndim\n",
        "b"
      ],
      "metadata": {
        "colab": {
          "base_uri": "https://localhost:8080/"
        },
        "id": "26NKkc48R8VB",
        "outputId": "8e583cee-4850-4561-e0c6-b4741010e8c7"
      },
      "execution_count": null,
      "outputs": [
        {
          "output_type": "execute_result",
          "data": {
            "text/plain": [
              "array([[55, 96, 36, 55,  7, 29, 31, 38, 64, 57],\n",
              "       [20, 75,  2, 88,  5, 73, 71, 98, 92, 98],\n",
              "       [52, 98, 23, 13, 81, 91, 79,  9, 80, 91],\n",
              "       [52, 76, 71, 60, 92, 44, 55, 26, 10,  3],\n",
              "       [16, 28, 59, 53, 53, 79, 75, 56, 95, 81]])"
            ]
          },
          "metadata": {},
          "execution_count": 6
        }
      ]
    },
    {
      "cell_type": "code",
      "source": [
        "flatten = b.flatten()\n",
        "print(flatten.ndim)\n",
        "flatten\n",
        "column_wise_flattening = np.ravel(b,order='F')\n",
        "print(column_wise_flattening)"
      ],
      "metadata": {
        "colab": {
          "base_uri": "https://localhost:8080/"
        },
        "id": "ZZJjQzdUSKTk",
        "outputId": "56a23fd7-4519-4918-f7ed-09024975b3f6"
      },
      "execution_count": null,
      "outputs": [
        {
          "output_type": "stream",
          "name": "stdout",
          "text": [
            "1\n",
            "[55 20 52 52 16 96 75 98 76 28 36  2 23 71 59 55 88 13 60 53  7  5 81 92\n",
            " 53 29 73 91 44 79 31 71 79 55 75 38 98  9 26 56 64 92 80 10 95 57 98 91\n",
            "  3 81]\n"
          ]
        }
      ]
    },
    {
      "cell_type": "code",
      "source": [
        "a = np.random.randint(1,10,size=(2,3))\n",
        "b = np.random.randint(1,10,size=(2,3))"
      ],
      "metadata": {
        "id": "32cWx-anS1mR"
      },
      "execution_count": null,
      "outputs": []
    },
    {
      "cell_type": "code",
      "source": [
        "print(a)\n",
        "print(b)"
      ],
      "metadata": {
        "colab": {
          "base_uri": "https://localhost:8080/"
        },
        "id": "XbmM2ypHS-aS",
        "outputId": "6d2c7cc6-0dd4-4c16-a8fc-a3cef3b3340a"
      },
      "execution_count": null,
      "outputs": [
        {
          "output_type": "stream",
          "name": "stdout",
          "text": [
            "[[7 5 4]\n",
            " [6 4 2]]\n",
            "[[6 2 6]\n",
            " [4 8 7]]\n"
          ]
        }
      ]
    },
    {
      "cell_type": "markdown",
      "source": [
        "##**concatenate**"
      ],
      "metadata": {
        "id": "zBN1a388TEIP"
      }
    },
    {
      "cell_type": "code",
      "source": [
        "con_row = np.concatenate((a,b),axis = 0) #row wise\n",
        "print(con_row)\n",
        "con_col = np.concatenate((a,b),axis=1) #column wise\n",
        "print(con_col)\n"
      ],
      "metadata": {
        "colab": {
          "base_uri": "https://localhost:8080/"
        },
        "id": "igZWwQvQTHcS",
        "outputId": "223faa59-c87e-4b87-efdf-67257e64e428"
      },
      "execution_count": null,
      "outputs": [
        {
          "output_type": "stream",
          "name": "stdout",
          "text": [
            "[[7 5 4]\n",
            " [6 4 2]\n",
            " [6 2 6]\n",
            " [4 8 7]]\n",
            "[[7 5 4 6 2 6]\n",
            " [6 4 2 4 8 7]]\n"
          ]
        }
      ]
    },
    {
      "cell_type": "code",
      "source": [
        "#error\n",
        "#row wise concatenate korar smy column same thakbe\n",
        "#col wise concatenate korar smy row ta same thakte hobe\n",
        "x = np.random.randint(1,10,size=(2,3))\n",
        "y = np.random.randint(1,10,size=(3,3))\n",
        "rx = np.concatenate((x,y),axis=0)\n",
        "print(rx) #hobe karon column same\n",
        "#ry = np.concatenate((x,y),axis=1) #hobe na karon x,y er row same na\n",
        "#print(ry)\n"
      ],
      "metadata": {
        "colab": {
          "base_uri": "https://localhost:8080/"
        },
        "id": "-bfU7KgpTdwI",
        "outputId": "99bcd5f5-cda1-4f23-c6ce-b4cc8d3ee8cd"
      },
      "execution_count": null,
      "outputs": [
        {
          "output_type": "stream",
          "name": "stdout",
          "text": [
            "[[5 5 6]\n",
            " [8 7 3]\n",
            " [8 6 4]\n",
            " [9 2 8]\n",
            " [8 1 3]]\n"
          ]
        }
      ]
    },
    {
      "cell_type": "code",
      "source": [
        "#transpose\n",
        "mat = np.array([[10,20,30],\n",
        "                [30,40,50]])\n",
        "transpose = mat.T\n",
        "print(transpose)"
      ],
      "metadata": {
        "colab": {
          "base_uri": "https://localhost:8080/"
        },
        "id": "_STOTf9XUWYQ",
        "outputId": "65c90c65-eb6e-4aca-bbe0-6f7ee9b86702"
      },
      "execution_count": null,
      "outputs": [
        {
          "output_type": "stream",
          "name": "stdout",
          "text": [
            "[[10 30]\n",
            " [20 40]\n",
            " [30 50]]\n"
          ]
        }
      ]
    },
    {
      "cell_type": "code",
      "source": [
        "#array split\n",
        "a = np.random.randint(1,10 , size=(10,))\n",
        "a\n",
        "splitted_array = np.array_split(a,3)\n",
        "print(splitted_array)\n",
        "\n",
        "#split->equal division\n",
        "#splitted_array = np.split(a,3) #error asbe kenona se equally division kore kintu 10 ke equally 3 baage divide kora possible na\n",
        "#print(splitted_array)"
      ],
      "metadata": {
        "colab": {
          "base_uri": "https://localhost:8080/"
        },
        "id": "S_3vfusUUnwT",
        "outputId": "b3a1f4d9-4f63-4988-e8e9-ec1caa0cd58d"
      },
      "execution_count": null,
      "outputs": [
        {
          "output_type": "stream",
          "name": "stdout",
          "text": [
            "[array([1, 8, 4]), array([5, 7, 9]), array([1, 8, 7])]\n",
            "[array([1, 8, 4]), array([5, 7, 9]), array([1, 8, 7])]\n"
          ]
        }
      ]
    },
    {
      "cell_type": "markdown",
      "source": [
        "##**arithmetic operator and mathmatical functions**"
      ],
      "metadata": {
        "id": "u6_meXR7VpKP"
      }
    },
    {
      "cell_type": "code",
      "source": [
        "# faster for vectorization\n",
        "x = np.array([10,8,30,100])\n",
        "y = np.array([ 2 , 3 ,4  ,5 ])\n",
        "\n",
        "add = np.add(x,y)\n",
        "print(add)\n",
        "sub = x-y\n",
        "print(sub)\n",
        "mul = x*y\n",
        "print(mul)\n",
        "div = x/y\n",
        "print(div)\n",
        "\n",
        "remainder = x%y\n",
        "print(remainder)"
      ],
      "metadata": {
        "colab": {
          "base_uri": "https://localhost:8080/"
        },
        "id": "dvv02SsEVwDJ",
        "outputId": "3eb49ee0-57b7-4b52-8e6c-8fc76efedcb9"
      },
      "execution_count": null,
      "outputs": [
        {
          "output_type": "stream",
          "name": "stdout",
          "text": [
            "[ 12  11  34 105]\n",
            "[ 8  5 26 95]\n",
            "[ 20  24 120 500]\n",
            "[ 5.          2.66666667  7.5        20.        ]\n",
            "[0 2 2 0]\n"
          ]
        }
      ]
    },
    {
      "cell_type": "code",
      "source": [
        "#mathmatical function\n",
        "#trigonometry\n",
        "#sin,cos , tan takes values in radian\n",
        "\n",
        "sin_val = np.sin(x)\n",
        "print(sin_val)\n",
        "\n",
        "cos_val = np.cos(x)\n",
        "print(cos_val)\n",
        "\n",
        "deg_con = np.rad2deg(x)\n",
        "print(deg_con)\n"
      ],
      "metadata": {
        "colab": {
          "base_uri": "https://localhost:8080/"
        },
        "id": "yJf6ey7nWHpF",
        "outputId": "4ff74858-a3da-4da5-d5ff-328c353b5f8b"
      },
      "execution_count": null,
      "outputs": [
        {
          "output_type": "stream",
          "name": "stdout",
          "text": [
            "[-0.54402111  0.98935825 -0.98803162 -0.50636564]\n",
            "[-0.83907153 -0.14550003  0.15425145  0.86231887]\n",
            "[ 572.95779513  458.3662361  1718.87338539 5729.57795131]\n"
          ]
        }
      ]
    },
    {
      "cell_type": "code",
      "source": [
        "#log\n",
        "x = np.array([10,8,16,100])\n",
        "base_10_log_val = np.log10(x)\n",
        "print(base_10_log_val)\n",
        "\n",
        "two_diye_bhag = np.log2(x)\n",
        "print(two_diye_bhag)\n",
        "\n",
        "sqrt = np.sqrt(x)\n",
        "print(sqrt)\n",
        "\n"
      ],
      "metadata": {
        "colab": {
          "base_uri": "https://localhost:8080/"
        },
        "id": "UuvMVr_5WjGO",
        "outputId": "a3a2c2fa-af89-4c42-ea73-a214eedccc16"
      },
      "execution_count": null,
      "outputs": [
        {
          "output_type": "stream",
          "name": "stdout",
          "text": [
            "[1.         0.90308999 1.20411998 2.        ]\n",
            "[3.32192809 3.         4.         6.64385619]\n",
            "[ 3.16227766  2.82842712  4.         10.        ]\n"
          ]
        }
      ]
    },
    {
      "cell_type": "code",
      "source": [
        "#different\n",
        "x = np.array([ 10 , 8 , 16 , 100 ])\n",
        "s = np.sum(x)\n",
        "print(s)\n",
        "\n",
        "#prefix sum\n",
        "cumul = np.cumsum(x)\n",
        "print(cumul)"
      ],
      "metadata": {
        "colab": {
          "base_uri": "https://localhost:8080/"
        },
        "id": "GPHOVEqEXp_q",
        "outputId": "eb86845e-8098-44b9-d1e5-a7c60effe2a6"
      },
      "execution_count": null,
      "outputs": [
        {
          "output_type": "stream",
          "name": "stdout",
          "text": [
            "134\n",
            "[ 10  18  34 134]\n"
          ]
        }
      ]
    },
    {
      "cell_type": "code",
      "source": [
        "#broadcasting\n",
        "result = x +2\n",
        "print(result)\n",
        "#rulings = columns er size and vector er size same hote hobe\n",
        "matrix = np.array([[10,20,30],\n",
        "                [30,40,50]\n",
        "               ])\n",
        "result = matrix+2\n",
        "result\n",
        "\n",
        "vector = np.array([1,2,3,4])\n",
        "#result = matrix+vector #error asbe karon column size same na\n",
        "print(result)"
      ],
      "metadata": {
        "colab": {
          "base_uri": "https://localhost:8080/"
        },
        "id": "4jH993GNZGDI",
        "outputId": "fb7962b8-44ea-4568-f00d-bca74e5bf02f"
      },
      "execution_count": null,
      "outputs": [
        {
          "output_type": "stream",
          "name": "stdout",
          "text": [
            "[ 12  10  18 102]\n",
            "[[12 22 32]\n",
            " [32 42 52]]\n"
          ]
        }
      ]
    },
    {
      "cell_type": "markdown",
      "source": [
        "##**Logical functions**"
      ],
      "metadata": {
        "id": "QdWbgU9G3BA5"
      }
    },
    {
      "cell_type": "code",
      "source": [
        "import numpy as np\n",
        "# comparison - >,< , >= ,<= , == , !=\n",
        "x = np.array([ 10 , 8 , 16 , 100 ])\n",
        "y = np.array([ 2 , 3 ,16  ,5 ])\n",
        "\n",
        "greater_than = x>y\n",
        "print(greater_than)\n",
        "\n",
        "equal = x==y\n",
        "\n",
        "print(equal)\n",
        "\n",
        "# all () -> shob true kina\n",
        "# any() -> jekono ekta true ase kina\n",
        "\n",
        "print(np.all(greater_than))\n",
        "\n",
        "print(np.any(equal))"
      ],
      "metadata": {
        "colab": {
          "base_uri": "https://localhost:8080/"
        },
        "id": "-VA310ff3Fdq",
        "outputId": "662f3b9b-aefa-4bbc-ebcc-368cf9d07acb"
      },
      "execution_count": null,
      "outputs": [
        {
          "output_type": "stream",
          "name": "stdout",
          "text": [
            "[ True  True False  True]\n",
            "[False False  True False]\n",
            "False\n",
            "True\n"
          ]
        }
      ]
    },
    {
      "cell_type": "markdown",
      "source": [
        "##**Sorting**"
      ],
      "metadata": {
        "id": "hPF2t3w-3red"
      }
    },
    {
      "cell_type": "code",
      "source": [
        "#inplace\n",
        "\n",
        "\n",
        "z = x.copy()\n",
        "print(z)\n",
        "\n",
        "z.sort()\n",
        "\n",
        "print(z)"
      ],
      "metadata": {
        "colab": {
          "base_uri": "https://localhost:8080/"
        },
        "id": "M0QB0K0f3t9A",
        "outputId": "8743c8f7-307c-4ff2-d8b5-51e36d582362"
      },
      "execution_count": null,
      "outputs": [
        {
          "output_type": "stream",
          "name": "stdout",
          "text": [
            "[ 10   8  16 100]\n",
            "[  8  10  16 100]\n"
          ]
        }
      ]
    },
    {
      "cell_type": "code",
      "source": [
        "#copy sorting\n",
        "print(x)\n",
        "sort_arr = np.sort(x)\n",
        "\n",
        "print(sort_arr)\n",
        "print(x)"
      ],
      "metadata": {
        "colab": {
          "base_uri": "https://localhost:8080/"
        },
        "id": "w3COzxFv4V6l",
        "outputId": "54d47581-d038-4dad-f09e-d55fa19821ae"
      },
      "execution_count": null,
      "outputs": [
        {
          "output_type": "stream",
          "name": "stdout",
          "text": [
            "[ 10   8  16 100]\n",
            "[  8  10  16 100]\n",
            "[ 10   8  16 100]\n"
          ]
        }
      ]
    },
    {
      "cell_type": "code",
      "source": [
        "#2d array sorting\n",
        "mat = np.array([[10,3,5],[8,4,9]])\n",
        "\n",
        "#horizontal axis = 1\n",
        "hor_sort = np.sort(mat,axis = 1)\n",
        "print(hor_sort)\n",
        "\n",
        "ver_sort = np.sort(mat,axis=0)\n",
        "print(ver_sort)"
      ],
      "metadata": {
        "colab": {
          "base_uri": "https://localhost:8080/"
        },
        "id": "dj9QcMDZ4do6",
        "outputId": "66f61974-a38e-4677-d1fe-f967fc5a2a81"
      },
      "execution_count": null,
      "outputs": [
        {
          "output_type": "stream",
          "name": "stdout",
          "text": [
            "[[ 3  5 10]\n",
            " [ 4  8  9]]\n",
            "[[ 8  3  5]\n",
            " [10  4  9]]\n"
          ]
        }
      ]
    },
    {
      "cell_type": "markdown",
      "source": [
        "##**Searching**"
      ],
      "metadata": {
        "id": "8q4RCwUS5CfN"
      }
    },
    {
      "cell_type": "code",
      "source": [
        "print(x)"
      ],
      "metadata": {
        "colab": {
          "base_uri": "https://localhost:8080/"
        },
        "id": "H-eSS1XP5Efu",
        "outputId": "9e20d299-d81e-47bd-8d55-c6257fc0171f"
      },
      "execution_count": null,
      "outputs": [
        {
          "output_type": "stream",
          "name": "stdout",
          "text": [
            "[ 10   8  16 100]\n"
          ]
        }
      ]
    },
    {
      "cell_type": "code",
      "source": [
        "# np.where(condition,x,y) if true x, otherwise replace with y\n",
        "\n",
        "index = np.where(x==8) #returns index\n",
        "print(index)\n",
        "\n",
        "arr = np.where(x>8,x,0) #returns array\n",
        "print(arr)"
      ],
      "metadata": {
        "colab": {
          "base_uri": "https://localhost:8080/"
        },
        "id": "3uTL_M_x5GRE",
        "outputId": "12a17dbf-4c82-42b5-8b7f-7a804b823631"
      },
      "execution_count": null,
      "outputs": [
        {
          "output_type": "stream",
          "name": "stdout",
          "text": [
            "(array([1]),)\n",
            "[ 10   0  16 100]\n"
          ]
        }
      ]
    },
    {
      "cell_type": "code",
      "source": [
        "print(mat)"
      ],
      "metadata": {
        "colab": {
          "base_uri": "https://localhost:8080/"
        },
        "id": "ieihC8t558OX",
        "outputId": "5e8cf6eb-262a-4a59-8398-89e7457ac64a"
      },
      "execution_count": null,
      "outputs": [
        {
          "output_type": "stream",
          "name": "stdout",
          "text": [
            "[[10  3  5]\n",
            " [ 8  4  9]]\n"
          ]
        }
      ]
    },
    {
      "cell_type": "code",
      "source": [
        "index = np.where(mat>8)\n",
        "print(index)\n",
        "\n",
        "arr = np.where(mat>8,mat,0) #returns array\n",
        "print(arr)"
      ],
      "metadata": {
        "colab": {
          "base_uri": "https://localhost:8080/"
        },
        "id": "Qs2nAl9Z594i",
        "outputId": "b235eaf0-27d7-41ca-e8da-8e22547a166f"
      },
      "execution_count": null,
      "outputs": [
        {
          "output_type": "stream",
          "name": "stdout",
          "text": [
            "(array([0, 1]), array([0, 2]))\n",
            "[[10  0  0]\n",
            " [ 0  0  9]]\n"
          ]
        }
      ]
    },
    {
      "cell_type": "code",
      "source": [
        "\n",
        "x = np.array([ 10,100 , 8 , 16 , 100 ])\n",
        "max_val_idx = np.argmax(x)\n",
        "print(max_val_idx)\n",
        "min_val_idx = np.argmin(x)\n",
        "print(min_val_idx)"
      ],
      "metadata": {
        "colab": {
          "base_uri": "https://localhost:8080/"
        },
        "id": "I7g_Ci_47lLC",
        "outputId": "d59f4a9b-e93a-4161-a41a-00260e6016f6"
      },
      "execution_count": null,
      "outputs": [
        {
          "output_type": "stream",
          "name": "stdout",
          "text": [
            "1\n",
            "2\n"
          ]
        }
      ]
    },
    {
      "cell_type": "markdown",
      "source": [
        "###**Counting in nd array**"
      ],
      "metadata": {
        "id": "hn25lt7S71BC"
      }
    },
    {
      "cell_type": "code",
      "source": [
        "a = np.random.randint(1,100,size=(100,))\n",
        "print(a)"
      ],
      "metadata": {
        "colab": {
          "base_uri": "https://localhost:8080/"
        },
        "id": "ZqGrnSY174pm",
        "outputId": "abffbfbf-4764-448c-85f5-f4f6f65a48ae"
      },
      "execution_count": null,
      "outputs": [
        {
          "output_type": "stream",
          "name": "stdout",
          "text": [
            "[27 60 23 42 34 53 44 54  4  2 17 95 33  4 13 74 15 85 99 27 78 84  3  2\n",
            " 89 97 87 50 79 65 66 88 44 10 56 91 50 24 44 82 89 24 37 94 37 43 11 90\n",
            " 24 28 27 31 16 36 55 45 51 69 42 46 71  4 87 80 38 14 87 21 83 69 82 13\n",
            " 58 24 96 68 36 32  5  5 47  3 48 47 13 89 22 45 94 67 34 53 14 10 13 61\n",
            " 76 99  7 92]\n"
          ]
        }
      ]
    },
    {
      "cell_type": "code",
      "source": [
        "val_reater_than_60 = np.count_nonzero(a==60)\n",
        "print(val_reater_than_60)"
      ],
      "metadata": {
        "colab": {
          "base_uri": "https://localhost:8080/"
        },
        "id": "Mufs-tMm8Ccl",
        "outputId": "8f688150-301e-4259-cbb0-5af3634f346f"
      },
      "execution_count": null,
      "outputs": [
        {
          "output_type": "stream",
          "name": "stdout",
          "text": [
            "1\n"
          ]
        }
      ]
    },
    {
      "cell_type": "code",
      "source": [
        "unique_value,count = np.unique(a,return_counts=True)\n",
        "print(unique_value)\n",
        "print(count)"
      ],
      "metadata": {
        "colab": {
          "base_uri": "https://localhost:8080/"
        },
        "id": "OgaYuBTL8XvA",
        "outputId": "70e6faab-74df-44f7-f882-4ca1e9cb4b10"
      },
      "execution_count": null,
      "outputs": [
        {
          "output_type": "stream",
          "name": "stdout",
          "text": [
            "[ 2  3  4  5  7 10 11 13 14 15 16 17 21 22 23 24 27 28 31 32 33 34 36 37\n",
            " 38 42 43 44 45 46 47 48 50 51 53 54 55 56 58 60 61 65 66 67 68 69 71 74\n",
            " 76 78 79 80 82 83 84 85 87 88 89 90 91 92 94 95 96 97 99]\n",
            "[2 2 3 2 1 2 1 4 2 1 1 1 1 1 1 4 3 1 1 1 1 2 2 2 1 2 1 3 2 1 2 1 2 1 2 1 1\n",
            " 1 1 1 1 1 1 1 1 2 1 1 1 1 1 1 2 1 1 1 3 1 3 1 1 1 2 1 1 1 2]\n"
          ]
        }
      ]
    },
    {
      "cell_type": "markdown",
      "source": [
        "##**statistical function**"
      ],
      "metadata": {
        "id": "I5uMr5vJ8uJN"
      }
    },
    {
      "cell_type": "code",
      "source": [
        "data = np.genfromtxt('student_scores.csv',delimiter=',',skip_header=1)\n",
        "print(data)"
      ],
      "metadata": {
        "colab": {
          "base_uri": "https://localhost:8080/"
        },
        "id": "ldd67l4S-FtV",
        "outputId": "1c7913c8-285e-45f0-88fc-ac8447d29d2a"
      },
      "execution_count": 47,
      "outputs": [
        {
          "output_type": "stream",
          "name": "stdout",
          "text": [
            "[[78. 85. 82.]\n",
            " [56. 67. 72.]\n",
            " [89. 92. 88.]\n",
            " [45. 52. 58.]\n",
            " [70. 75. 80.]\n",
            " [92. 90. 91.]\n",
            " [61. 60. 62.]\n",
            " [55. 57. 54.]\n",
            " [88. 89. 87.]\n",
            " [74. 70. 76.]\n",
            " [66. 69. 68.]\n",
            " [80. 82. 81.]\n",
            " [59. 64. 60.]\n",
            " [73. 78. 74.]\n",
            " [91. 93. 90.]\n",
            " [68. 71. 69.]\n",
            " [77. 79. 78.]\n",
            " [84. 86. 85.]\n",
            " [62. 63. 65.]\n",
            " [95. 97. 96.]]\n"
          ]
        }
      ]
    },
    {
      "cell_type": "code",
      "source": [
        "# statistics\n",
        "math_marks = data[::,:1]\n",
        "print(math_marks.T)\n",
        "\n",
        "max_math_marks = np.max(math_marks)\n",
        "print(max_math_marks)\n",
        "\n",
        "min_math_marks = np.min(math_marks)\n",
        "print(min_math_marks)\n",
        "\n",
        "average_math_marks = np.mean(math_marks)\n",
        "print(average_math_marks)\n",
        "\n",
        "median_math_marks = np.median(math_marks)\n",
        "print(median_math_marks)\n",
        "\n",
        "#standard deviation\n",
        "std_math_marks = np.std(math_marks)\n",
        "print(std_math_marks)"
      ],
      "metadata": {
        "colab": {
          "base_uri": "https://localhost:8080/"
        },
        "id": "pXgcO9bg-VUc",
        "outputId": "caa32359-6488-433e-959c-3d77cbc6311e"
      },
      "execution_count": 54,
      "outputs": [
        {
          "output_type": "stream",
          "name": "stdout",
          "text": [
            "[[78. 56. 89. 45. 70. 92. 61. 55. 88. 74. 66. 80. 59. 73. 91. 68. 77. 84.\n",
            "  62. 95.]]\n",
            "95.0\n",
            "45.0\n",
            "73.15\n",
            "73.5\n",
            "13.788672887555204\n"
          ]
        }
      ]
    },
    {
      "cell_type": "markdown",
      "source": [
        "##**Linear algebra**"
      ],
      "metadata": {
        "id": "wiA2CX4i_Qb4"
      }
    },
    {
      "cell_type": "code",
      "source": [
        "A = np.array([\n",
        "    [1,2,3],\n",
        "    [4,5,6]\n",
        "])\n",
        "B = np.array([\n",
        "    [7,8],\n",
        "    [9,10],\n",
        "    [11,12\n",
        "     ]\n",
        "])\n",
        "# a er column and b er row same length hote hobe\n",
        "dot_product = np.dot(A,B)\n",
        "print(dot_product)\n",
        "\n",
        "#trace\n",
        "print(np.trace(A))"
      ],
      "metadata": {
        "colab": {
          "base_uri": "https://localhost:8080/"
        },
        "id": "H1zAvQub_Tjm",
        "outputId": "bb4398b2-50a9-4055-c00a-9048ecdf057f"
      },
      "execution_count": 58,
      "outputs": [
        {
          "output_type": "stream",
          "name": "stdout",
          "text": [
            "[[ 58  64]\n",
            " [139 154]]\n",
            "6\n"
          ]
        }
      ]
    },
    {
      "cell_type": "code",
      "source": [
        "sq_mat = np.array([[1,2,3],\n",
        "                   [4,5,6],\n",
        "                   [7,8,9]])\n",
        "det_of_sq = np.linalg.det(sq_mat)\n",
        "print(det_of_sq)\n",
        "rank_sq = np.linalg.matrix_rank(sq_mat)\n",
        "\n",
        "print(det_of_sq)\n",
        "\n",
        "print(rank_sq)\n"
      ],
      "metadata": {
        "colab": {
          "base_uri": "https://localhost:8080/"
        },
        "id": "5aIwJY3N_6tt",
        "outputId": "8b863621-e3a3-40a5-d491-f4b0828d5add"
      },
      "execution_count": 67,
      "outputs": [
        {
          "output_type": "stream",
          "name": "stdout",
          "text": [
            "0.0\n",
            "0.0\n",
            "2\n"
          ]
        }
      ]
    }
  ]
}